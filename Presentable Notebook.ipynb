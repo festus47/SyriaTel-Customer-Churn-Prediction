{
 "cells": [
  {
   "cell_type": "markdown",
   "metadata": {},
   "source": [
    "# 1. Introduction\n",
    "\n",
    "## 1.1. Project Overview\n",
    "\n",
    "In this project, I aim to build a classification model to predict customer churn for SyriaTel, a telecommunications company. Customer churn, or the loss of customers to competitors or other factors, represents a significant challenge for businesses in the telecom industry. By predicting which customers are likely to leave SyriaTel, the company can implement targeted retention strategies to reduce churn and improve customer loyalty.\n"
   ]
  },
  {
   "cell_type": "markdown",
   "metadata": {},
   "source": [
    "## 1.2. Dataset Choice\n",
    "\n",
    "For this project, I will use the **SyriaTel Customer Churn** dataset. This dataset provides information about SyriaTel's customers and their interactions with the company. It includes various features that can be used to predict whether a customer will stop doing business with SyriaTel.\n",
    "\n",
    "You can access the dataset [here](https://www.kaggle.com/datasets/becksddf/churn-in-telecoms-dataset?resource=download).\n"
   ]
  },
  {
   "cell_type": "markdown",
   "metadata": {},
   "source": [
    "### Why This Dataset?\n",
    "\n",
    "- **Relevance**: The dataset is directly related to the business problem of customer churn, making it highly relevant for our classification task.\n",
    "- **Binary Classification**: The problem is a binary classification problem, where we need to predict whether a customer will churn (yes) or not (no). This simplifies the modeling and evaluation process.\n",
    "- **Business Impact**: Reducing customer churn can have a substantial positive impact on SyriaTel's revenue and customer retention efforts.\n",
    "\n",
    "By analyzing this dataset, I aim to provide actionable insights that can help SyriaTel minimize churn and enhance customer satisfaction.\n"
   ]
  },
  {
   "cell_type": "markdown",
   "metadata": {},
   "source": [
    "# 2. Business Understanding"
   ]
  },
  {
   "cell_type": "markdown",
   "metadata": {},
   "source": [
    "## 2.1. Overview\n",
    "\n",
    "The telecommunications industry is highly competitive, with companies constantly striving to retain their customers while acquiring new ones. Customer churn, the phenomenon where customers stop doing business with a company, poses a significant challenge. Reducing churn is critical because acquiring new customers often costs more than retaining existing ones.\n"
   ]
  },
  {
   "cell_type": "markdown",
   "metadata": {},
   "source": [
    "## 2.2. Problem Statement\n",
    "\n",
    "SyriaTel, a leading telecommunications company, is facing challenges with customer retention. The company has observed a decline in customer loyalty, leading to increased churn rates. The business needs to identify customers who are likely to churn in order to take proactive measures to retain them.\n"
   ]
  },
  {
   "cell_type": "markdown",
   "metadata": {},
   "source": [
    "## 2.3. Objective\n",
    "\n",
    "The primary objective of this project is to build a machine learning model that can accurately predict whether a SyriaTel customer will churn. By identifying the key factors that contribute to customer churn, the company can implement targeted retention strategies to minimize churn rates and improve customer satisfaction.\n"
   ]
  },
  {
   "cell_type": "markdown",
   "metadata": {},
   "source": [
    "## 2.4. Stakeholders\n",
    "\n",
    "The key stakeholders for this project include:\n",
    "- **Marketing Team:** Interested in identifying at-risk customers for targeted retention campaigns.\n",
    "- **Customer Service Team:** Aiming to improve customer satisfaction and reduce churn through personalized service.\n",
    "- **Business Analysts:** Focused on understanding churn patterns and their impact on the company’s revenue.\n",
    "- **Executive Team:** Concerned with overall business performance and customer retention strategies.\n"
   ]
  },
  {
   "cell_type": "markdown",
   "metadata": {},
   "source": [
    "# 3. Data Understanding"
   ]
  },
  {
   "cell_type": "markdown",
   "metadata": {},
   "source": [
    "## 3.1. Overview\n",
    "\n",
    "In this section, I will explore the dataset provided by SyriaTel. Understanding the structure and characteristics of the data is crucial before moving forward with the analysis. I will look into the data types, the presence of missing values, and the distribution of features.\n"
   ]
  },
  {
   "cell_type": "markdown",
   "metadata": {},
   "source": [
    "## 3.2. Data Collection\n",
    "\n",
    "The dataset used in this project was obtained from a curated collection of customer churn datasets. It includes a wide range of features that capture customer behavior, account information, and service usage patterns. This data will be the foundation for building our predictive model.\n"
   ]
  },
  {
   "cell_type": "markdown",
   "metadata": {},
   "source": [
    "### Load the Dataset"
   ]
  },
  {
   "cell_type": "code",
   "execution_count": 2,
   "metadata": {},
   "outputs": [
    {
     "data": {
      "text/html": [
       "<div>\n",
       "<style scoped>\n",
       "    .dataframe tbody tr th:only-of-type {\n",
       "        vertical-align: middle;\n",
       "    }\n",
       "\n",
       "    .dataframe tbody tr th {\n",
       "        vertical-align: top;\n",
       "    }\n",
       "\n",
       "    .dataframe thead th {\n",
       "        text-align: right;\n",
       "    }\n",
       "</style>\n",
       "<table border=\"1\" class=\"dataframe\">\n",
       "  <thead>\n",
       "    <tr style=\"text-align: right;\">\n",
       "      <th></th>\n",
       "      <th>state</th>\n",
       "      <th>account length</th>\n",
       "      <th>area code</th>\n",
       "      <th>phone number</th>\n",
       "      <th>international plan</th>\n",
       "      <th>voice mail plan</th>\n",
       "      <th>number vmail messages</th>\n",
       "      <th>total day minutes</th>\n",
       "      <th>total day calls</th>\n",
       "      <th>total day charge</th>\n",
       "      <th>...</th>\n",
       "      <th>total eve calls</th>\n",
       "      <th>total eve charge</th>\n",
       "      <th>total night minutes</th>\n",
       "      <th>total night calls</th>\n",
       "      <th>total night charge</th>\n",
       "      <th>total intl minutes</th>\n",
       "      <th>total intl calls</th>\n",
       "      <th>total intl charge</th>\n",
       "      <th>customer service calls</th>\n",
       "      <th>churn</th>\n",
       "    </tr>\n",
       "  </thead>\n",
       "  <tbody>\n",
       "    <tr>\n",
       "      <th>0</th>\n",
       "      <td>KS</td>\n",
       "      <td>128</td>\n",
       "      <td>415</td>\n",
       "      <td>382-4657</td>\n",
       "      <td>no</td>\n",
       "      <td>yes</td>\n",
       "      <td>25</td>\n",
       "      <td>265.1</td>\n",
       "      <td>110</td>\n",
       "      <td>45.07</td>\n",
       "      <td>...</td>\n",
       "      <td>99</td>\n",
       "      <td>16.78</td>\n",
       "      <td>244.7</td>\n",
       "      <td>91</td>\n",
       "      <td>11.01</td>\n",
       "      <td>10.0</td>\n",
       "      <td>3</td>\n",
       "      <td>2.70</td>\n",
       "      <td>1</td>\n",
       "      <td>False</td>\n",
       "    </tr>\n",
       "    <tr>\n",
       "      <th>1</th>\n",
       "      <td>OH</td>\n",
       "      <td>107</td>\n",
       "      <td>415</td>\n",
       "      <td>371-7191</td>\n",
       "      <td>no</td>\n",
       "      <td>yes</td>\n",
       "      <td>26</td>\n",
       "      <td>161.6</td>\n",
       "      <td>123</td>\n",
       "      <td>27.47</td>\n",
       "      <td>...</td>\n",
       "      <td>103</td>\n",
       "      <td>16.62</td>\n",
       "      <td>254.4</td>\n",
       "      <td>103</td>\n",
       "      <td>11.45</td>\n",
       "      <td>13.7</td>\n",
       "      <td>3</td>\n",
       "      <td>3.70</td>\n",
       "      <td>1</td>\n",
       "      <td>False</td>\n",
       "    </tr>\n",
       "    <tr>\n",
       "      <th>2</th>\n",
       "      <td>NJ</td>\n",
       "      <td>137</td>\n",
       "      <td>415</td>\n",
       "      <td>358-1921</td>\n",
       "      <td>no</td>\n",
       "      <td>no</td>\n",
       "      <td>0</td>\n",
       "      <td>243.4</td>\n",
       "      <td>114</td>\n",
       "      <td>41.38</td>\n",
       "      <td>...</td>\n",
       "      <td>110</td>\n",
       "      <td>10.30</td>\n",
       "      <td>162.6</td>\n",
       "      <td>104</td>\n",
       "      <td>7.32</td>\n",
       "      <td>12.2</td>\n",
       "      <td>5</td>\n",
       "      <td>3.29</td>\n",
       "      <td>0</td>\n",
       "      <td>False</td>\n",
       "    </tr>\n",
       "    <tr>\n",
       "      <th>3</th>\n",
       "      <td>OH</td>\n",
       "      <td>84</td>\n",
       "      <td>408</td>\n",
       "      <td>375-9999</td>\n",
       "      <td>yes</td>\n",
       "      <td>no</td>\n",
       "      <td>0</td>\n",
       "      <td>299.4</td>\n",
       "      <td>71</td>\n",
       "      <td>50.90</td>\n",
       "      <td>...</td>\n",
       "      <td>88</td>\n",
       "      <td>5.26</td>\n",
       "      <td>196.9</td>\n",
       "      <td>89</td>\n",
       "      <td>8.86</td>\n",
       "      <td>6.6</td>\n",
       "      <td>7</td>\n",
       "      <td>1.78</td>\n",
       "      <td>2</td>\n",
       "      <td>False</td>\n",
       "    </tr>\n",
       "    <tr>\n",
       "      <th>4</th>\n",
       "      <td>OK</td>\n",
       "      <td>75</td>\n",
       "      <td>415</td>\n",
       "      <td>330-6626</td>\n",
       "      <td>yes</td>\n",
       "      <td>no</td>\n",
       "      <td>0</td>\n",
       "      <td>166.7</td>\n",
       "      <td>113</td>\n",
       "      <td>28.34</td>\n",
       "      <td>...</td>\n",
       "      <td>122</td>\n",
       "      <td>12.61</td>\n",
       "      <td>186.9</td>\n",
       "      <td>121</td>\n",
       "      <td>8.41</td>\n",
       "      <td>10.1</td>\n",
       "      <td>3</td>\n",
       "      <td>2.73</td>\n",
       "      <td>3</td>\n",
       "      <td>False</td>\n",
       "    </tr>\n",
       "  </tbody>\n",
       "</table>\n",
       "<p>5 rows × 21 columns</p>\n",
       "</div>"
      ],
      "text/plain": [
       "  state  account length  area code phone number international plan  \\\n",
       "0    KS             128        415     382-4657                 no   \n",
       "1    OH             107        415     371-7191                 no   \n",
       "2    NJ             137        415     358-1921                 no   \n",
       "3    OH              84        408     375-9999                yes   \n",
       "4    OK              75        415     330-6626                yes   \n",
       "\n",
       "  voice mail plan  number vmail messages  total day minutes  total day calls  \\\n",
       "0             yes                     25              265.1              110   \n",
       "1             yes                     26              161.6              123   \n",
       "2              no                      0              243.4              114   \n",
       "3              no                      0              299.4               71   \n",
       "4              no                      0              166.7              113   \n",
       "\n",
       "   total day charge  ...  total eve calls  total eve charge  \\\n",
       "0             45.07  ...               99             16.78   \n",
       "1             27.47  ...              103             16.62   \n",
       "2             41.38  ...              110             10.30   \n",
       "3             50.90  ...               88              5.26   \n",
       "4             28.34  ...              122             12.61   \n",
       "\n",
       "   total night minutes  total night calls  total night charge  \\\n",
       "0                244.7                 91               11.01   \n",
       "1                254.4                103               11.45   \n",
       "2                162.6                104                7.32   \n",
       "3                196.9                 89                8.86   \n",
       "4                186.9                121                8.41   \n",
       "\n",
       "   total intl minutes  total intl calls  total intl charge  \\\n",
       "0                10.0                 3               2.70   \n",
       "1                13.7                 3               3.70   \n",
       "2                12.2                 5               3.29   \n",
       "3                 6.6                 7               1.78   \n",
       "4                10.1                 3               2.73   \n",
       "\n",
       "   customer service calls  churn  \n",
       "0                       1  False  \n",
       "1                       1  False  \n",
       "2                       0  False  \n",
       "3                       2  False  \n",
       "4                       3  False  \n",
       "\n",
       "[5 rows x 21 columns]"
      ]
     },
     "execution_count": 2,
     "metadata": {},
     "output_type": "execute_result"
    }
   ],
   "source": [
    "# Load necessary libraries\n",
    "import pandas as pd\n",
    "\n",
    "# Load the dataset\n",
    "data_path = \"bigml_59c28831336c6604c800002a.csv\"\n",
    "df = pd.read_csv(data_path)\n",
    "\n",
    "# Display the first few rows of the dataset\n",
    "df.head()"
   ]
  },
  {
   "cell_type": "markdown",
   "metadata": {},
   "source": [
    "## 3.3. Data Description\n",
    "The dataset contains 3,333 rows and 21 columns, representing customer information for SyriaTel, a telecommunications company. Key attributes include:\n",
    "\n",
    "- **State**: Customer's U.S. state of residence.\n",
    "- **Account length**: Duration of customer’s relationship with SyriaTel.\n",
    "- **Area code**: Area code of the customer’s phone number.\n",
    "- **Phone number**: Customer’s phone number.\n",
    "- **International plan**: Subscription to an international calling plan (yes or no).\n",
    "- **Voice mail plan**: Subscription to a voice mail plan (yes or no).\n",
    "- **Usage and charges**: Includes total minutes, calls, and charges for day, evening, night, and international periods.\n",
    "- **Customer service calls**: Number of calls made to customer service.\n",
    "- **Churn**: Whether the customer churned (True) or not (False).\n",
    "\n",
    "This dataset will be used to identify patterns and predict customer churn."
   ]
  },
  {
   "cell_type": "markdown",
   "metadata": {},
   "source": [
    "### Data Insights and Summary Statistics\n",
    "\n",
    "To further understand the dataset, we will explore the summary statistics and overall data structure:"
   ]
  },
  {
   "cell_type": "code",
   "execution_count": 3,
   "metadata": {},
   "outputs": [
    {
     "data": {
      "text/html": [
       "<div>\n",
       "<style scoped>\n",
       "    .dataframe tbody tr th:only-of-type {\n",
       "        vertical-align: middle;\n",
       "    }\n",
       "\n",
       "    .dataframe tbody tr th {\n",
       "        vertical-align: top;\n",
       "    }\n",
       "\n",
       "    .dataframe thead th {\n",
       "        text-align: right;\n",
       "    }\n",
       "</style>\n",
       "<table border=\"1\" class=\"dataframe\">\n",
       "  <thead>\n",
       "    <tr style=\"text-align: right;\">\n",
       "      <th></th>\n",
       "      <th>account length</th>\n",
       "      <th>area code</th>\n",
       "      <th>number vmail messages</th>\n",
       "      <th>total day minutes</th>\n",
       "      <th>total day calls</th>\n",
       "      <th>total day charge</th>\n",
       "      <th>total eve minutes</th>\n",
       "      <th>total eve calls</th>\n",
       "      <th>total eve charge</th>\n",
       "      <th>total night minutes</th>\n",
       "      <th>total night calls</th>\n",
       "      <th>total night charge</th>\n",
       "      <th>total intl minutes</th>\n",
       "      <th>total intl calls</th>\n",
       "      <th>total intl charge</th>\n",
       "      <th>customer service calls</th>\n",
       "    </tr>\n",
       "  </thead>\n",
       "  <tbody>\n",
       "    <tr>\n",
       "      <th>count</th>\n",
       "      <td>3333.000000</td>\n",
       "      <td>3333.000000</td>\n",
       "      <td>3333.000000</td>\n",
       "      <td>3333.000000</td>\n",
       "      <td>3333.000000</td>\n",
       "      <td>3333.000000</td>\n",
       "      <td>3333.000000</td>\n",
       "      <td>3333.000000</td>\n",
       "      <td>3333.000000</td>\n",
       "      <td>3333.000000</td>\n",
       "      <td>3333.000000</td>\n",
       "      <td>3333.000000</td>\n",
       "      <td>3333.000000</td>\n",
       "      <td>3333.000000</td>\n",
       "      <td>3333.000000</td>\n",
       "      <td>3333.000000</td>\n",
       "    </tr>\n",
       "    <tr>\n",
       "      <th>mean</th>\n",
       "      <td>101.064806</td>\n",
       "      <td>437.182418</td>\n",
       "      <td>8.099010</td>\n",
       "      <td>179.775098</td>\n",
       "      <td>100.435644</td>\n",
       "      <td>30.562307</td>\n",
       "      <td>200.980348</td>\n",
       "      <td>100.114311</td>\n",
       "      <td>17.083540</td>\n",
       "      <td>200.872037</td>\n",
       "      <td>100.107711</td>\n",
       "      <td>9.039325</td>\n",
       "      <td>10.237294</td>\n",
       "      <td>4.479448</td>\n",
       "      <td>2.764581</td>\n",
       "      <td>1.562856</td>\n",
       "    </tr>\n",
       "    <tr>\n",
       "      <th>std</th>\n",
       "      <td>39.822106</td>\n",
       "      <td>42.371290</td>\n",
       "      <td>13.688365</td>\n",
       "      <td>54.467389</td>\n",
       "      <td>20.069084</td>\n",
       "      <td>9.259435</td>\n",
       "      <td>50.713844</td>\n",
       "      <td>19.922625</td>\n",
       "      <td>4.310668</td>\n",
       "      <td>50.573847</td>\n",
       "      <td>19.568609</td>\n",
       "      <td>2.275873</td>\n",
       "      <td>2.791840</td>\n",
       "      <td>2.461214</td>\n",
       "      <td>0.753773</td>\n",
       "      <td>1.315491</td>\n",
       "    </tr>\n",
       "    <tr>\n",
       "      <th>min</th>\n",
       "      <td>1.000000</td>\n",
       "      <td>408.000000</td>\n",
       "      <td>0.000000</td>\n",
       "      <td>0.000000</td>\n",
       "      <td>0.000000</td>\n",
       "      <td>0.000000</td>\n",
       "      <td>0.000000</td>\n",
       "      <td>0.000000</td>\n",
       "      <td>0.000000</td>\n",
       "      <td>23.200000</td>\n",
       "      <td>33.000000</td>\n",
       "      <td>1.040000</td>\n",
       "      <td>0.000000</td>\n",
       "      <td>0.000000</td>\n",
       "      <td>0.000000</td>\n",
       "      <td>0.000000</td>\n",
       "    </tr>\n",
       "    <tr>\n",
       "      <th>25%</th>\n",
       "      <td>74.000000</td>\n",
       "      <td>408.000000</td>\n",
       "      <td>0.000000</td>\n",
       "      <td>143.700000</td>\n",
       "      <td>87.000000</td>\n",
       "      <td>24.430000</td>\n",
       "      <td>166.600000</td>\n",
       "      <td>87.000000</td>\n",
       "      <td>14.160000</td>\n",
       "      <td>167.000000</td>\n",
       "      <td>87.000000</td>\n",
       "      <td>7.520000</td>\n",
       "      <td>8.500000</td>\n",
       "      <td>3.000000</td>\n",
       "      <td>2.300000</td>\n",
       "      <td>1.000000</td>\n",
       "    </tr>\n",
       "    <tr>\n",
       "      <th>50%</th>\n",
       "      <td>101.000000</td>\n",
       "      <td>415.000000</td>\n",
       "      <td>0.000000</td>\n",
       "      <td>179.400000</td>\n",
       "      <td>101.000000</td>\n",
       "      <td>30.500000</td>\n",
       "      <td>201.400000</td>\n",
       "      <td>100.000000</td>\n",
       "      <td>17.120000</td>\n",
       "      <td>201.200000</td>\n",
       "      <td>100.000000</td>\n",
       "      <td>9.050000</td>\n",
       "      <td>10.300000</td>\n",
       "      <td>4.000000</td>\n",
       "      <td>2.780000</td>\n",
       "      <td>1.000000</td>\n",
       "    </tr>\n",
       "    <tr>\n",
       "      <th>75%</th>\n",
       "      <td>127.000000</td>\n",
       "      <td>510.000000</td>\n",
       "      <td>20.000000</td>\n",
       "      <td>216.400000</td>\n",
       "      <td>114.000000</td>\n",
       "      <td>36.790000</td>\n",
       "      <td>235.300000</td>\n",
       "      <td>114.000000</td>\n",
       "      <td>20.000000</td>\n",
       "      <td>235.300000</td>\n",
       "      <td>113.000000</td>\n",
       "      <td>10.590000</td>\n",
       "      <td>12.100000</td>\n",
       "      <td>6.000000</td>\n",
       "      <td>3.270000</td>\n",
       "      <td>2.000000</td>\n",
       "    </tr>\n",
       "    <tr>\n",
       "      <th>max</th>\n",
       "      <td>243.000000</td>\n",
       "      <td>510.000000</td>\n",
       "      <td>51.000000</td>\n",
       "      <td>350.800000</td>\n",
       "      <td>165.000000</td>\n",
       "      <td>59.640000</td>\n",
       "      <td>363.700000</td>\n",
       "      <td>170.000000</td>\n",
       "      <td>30.910000</td>\n",
       "      <td>395.000000</td>\n",
       "      <td>175.000000</td>\n",
       "      <td>17.770000</td>\n",
       "      <td>20.000000</td>\n",
       "      <td>20.000000</td>\n",
       "      <td>5.400000</td>\n",
       "      <td>9.000000</td>\n",
       "    </tr>\n",
       "  </tbody>\n",
       "</table>\n",
       "</div>"
      ],
      "text/plain": [
       "       account length    area code  number vmail messages  total day minutes  \\\n",
       "count     3333.000000  3333.000000            3333.000000        3333.000000   \n",
       "mean       101.064806   437.182418               8.099010         179.775098   \n",
       "std         39.822106    42.371290              13.688365          54.467389   \n",
       "min          1.000000   408.000000               0.000000           0.000000   \n",
       "25%         74.000000   408.000000               0.000000         143.700000   \n",
       "50%        101.000000   415.000000               0.000000         179.400000   \n",
       "75%        127.000000   510.000000              20.000000         216.400000   \n",
       "max        243.000000   510.000000              51.000000         350.800000   \n",
       "\n",
       "       total day calls  total day charge  total eve minutes  total eve calls  \\\n",
       "count      3333.000000       3333.000000        3333.000000      3333.000000   \n",
       "mean        100.435644         30.562307         200.980348       100.114311   \n",
       "std          20.069084          9.259435          50.713844        19.922625   \n",
       "min           0.000000          0.000000           0.000000         0.000000   \n",
       "25%          87.000000         24.430000         166.600000        87.000000   \n",
       "50%         101.000000         30.500000         201.400000       100.000000   \n",
       "75%         114.000000         36.790000         235.300000       114.000000   \n",
       "max         165.000000         59.640000         363.700000       170.000000   \n",
       "\n",
       "       total eve charge  total night minutes  total night calls  \\\n",
       "count       3333.000000          3333.000000        3333.000000   \n",
       "mean          17.083540           200.872037         100.107711   \n",
       "std            4.310668            50.573847          19.568609   \n",
       "min            0.000000            23.200000          33.000000   \n",
       "25%           14.160000           167.000000          87.000000   \n",
       "50%           17.120000           201.200000         100.000000   \n",
       "75%           20.000000           235.300000         113.000000   \n",
       "max           30.910000           395.000000         175.000000   \n",
       "\n",
       "       total night charge  total intl minutes  total intl calls  \\\n",
       "count         3333.000000         3333.000000       3333.000000   \n",
       "mean             9.039325           10.237294          4.479448   \n",
       "std              2.275873            2.791840          2.461214   \n",
       "min              1.040000            0.000000          0.000000   \n",
       "25%              7.520000            8.500000          3.000000   \n",
       "50%              9.050000           10.300000          4.000000   \n",
       "75%             10.590000           12.100000          6.000000   \n",
       "max             17.770000           20.000000         20.000000   \n",
       "\n",
       "       total intl charge  customer service calls  \n",
       "count        3333.000000             3333.000000  \n",
       "mean            2.764581                1.562856  \n",
       "std             0.753773                1.315491  \n",
       "min             0.000000                0.000000  \n",
       "25%             2.300000                1.000000  \n",
       "50%             2.780000                1.000000  \n",
       "75%             3.270000                2.000000  \n",
       "max             5.400000                9.000000  "
      ]
     },
     "execution_count": 3,
     "metadata": {},
     "output_type": "execute_result"
    }
   ],
   "source": [
    "# Display summary statistics of the dataset\n",
    "df.describe()"
   ]
  },
  {
   "cell_type": "code",
   "execution_count": 4,
   "metadata": {},
   "outputs": [
    {
     "name": "stdout",
     "output_type": "stream",
     "text": [
      "<class 'pandas.core.frame.DataFrame'>\n",
      "RangeIndex: 3333 entries, 0 to 3332\n",
      "Data columns (total 21 columns):\n",
      " #   Column                  Non-Null Count  Dtype  \n",
      "---  ------                  --------------  -----  \n",
      " 0   state                   3333 non-null   object \n",
      " 1   account length          3333 non-null   int64  \n",
      " 2   area code               3333 non-null   int64  \n",
      " 3   phone number            3333 non-null   object \n",
      " 4   international plan      3333 non-null   object \n",
      " 5   voice mail plan         3333 non-null   object \n",
      " 6   number vmail messages   3333 non-null   int64  \n",
      " 7   total day minutes       3333 non-null   float64\n",
      " 8   total day calls         3333 non-null   int64  \n",
      " 9   total day charge        3333 non-null   float64\n",
      " 10  total eve minutes       3333 non-null   float64\n",
      " 11  total eve calls         3333 non-null   int64  \n",
      " 12  total eve charge        3333 non-null   float64\n",
      " 13  total night minutes     3333 non-null   float64\n",
      " 14  total night calls       3333 non-null   int64  \n",
      " 15  total night charge      3333 non-null   float64\n",
      " 16  total intl minutes      3333 non-null   float64\n",
      " 17  total intl calls        3333 non-null   int64  \n",
      " 18  total intl charge       3333 non-null   float64\n",
      " 19  customer service calls  3333 non-null   int64  \n",
      " 20  churn                   3333 non-null   bool   \n",
      "dtypes: bool(1), float64(8), int64(8), object(4)\n",
      "memory usage: 524.2+ KB\n"
     ]
    }
   ],
   "source": [
    "# Display data types and non-null counts for each column\n",
    "df.info()"
   ]
  },
  {
   "cell_type": "markdown",
   "metadata": {},
   "source": [
    "### Unique Values and Data Types"
   ]
  },
  {
   "cell_type": "markdown",
   "metadata": {},
   "source": [
    "I will now examine the unique values and data types of each column in the dataset. This analysis helps us understand the structure of the data, identify categorical vs. numerical variables, and detect any anomalies or data inconsistencies."
   ]
  },
  {
   "cell_type": "code",
   "execution_count": 5,
   "metadata": {},
   "outputs": [
    {
     "name": "stdout",
     "output_type": "stream",
     "text": [
      "state:\n",
      " - Data Type: object\n",
      " - Number of Unique Values: 51\n",
      " - Unique Values: ['KS' 'OH' 'NJ' 'OK' 'AL']...\n",
      "\n",
      "\n",
      "account length:\n",
      " - Data Type: int64\n",
      " - Number of Unique Values: 212\n",
      " - Unique Values: [128 107 137  84  75]...\n",
      "\n",
      "\n",
      "area code:\n",
      " - Data Type: int64\n",
      " - Number of Unique Values: 3\n",
      " - Unique Values: [415 408 510]...\n",
      "\n",
      "\n",
      "phone number:\n",
      " - Data Type: object\n",
      " - Number of Unique Values: 3333\n",
      " - Unique Values: ['382-4657' '371-7191' '358-1921' '375-9999' '330-6626']...\n",
      "\n",
      "\n",
      "international plan:\n",
      " - Data Type: object\n",
      " - Number of Unique Values: 2\n",
      " - Unique Values: ['no' 'yes']...\n",
      "\n",
      "\n",
      "voice mail plan:\n",
      " - Data Type: object\n",
      " - Number of Unique Values: 2\n",
      " - Unique Values: ['yes' 'no']...\n",
      "\n",
      "\n",
      "number vmail messages:\n",
      " - Data Type: int64\n",
      " - Number of Unique Values: 46\n",
      " - Unique Values: [25 26  0 24 37]...\n",
      "\n",
      "\n",
      "total day minutes:\n",
      " - Data Type: float64\n",
      " - Number of Unique Values: 1667\n",
      " - Unique Values: [265.1 161.6 243.4 299.4 166.7]...\n",
      "\n",
      "\n",
      "total day calls:\n",
      " - Data Type: int64\n",
      " - Number of Unique Values: 119\n",
      " - Unique Values: [110 123 114  71 113]...\n",
      "\n",
      "\n",
      "total day charge:\n",
      " - Data Type: float64\n",
      " - Number of Unique Values: 1667\n",
      " - Unique Values: [45.07 27.47 41.38 50.9  28.34]...\n",
      "\n",
      "\n",
      "total eve minutes:\n",
      " - Data Type: float64\n",
      " - Number of Unique Values: 1611\n",
      " - Unique Values: [197.4 195.5 121.2  61.9 148.3]...\n",
      "\n",
      "\n",
      "total eve calls:\n",
      " - Data Type: int64\n",
      " - Number of Unique Values: 123\n",
      " - Unique Values: [ 99 103 110  88 122]...\n",
      "\n",
      "\n",
      "total eve charge:\n",
      " - Data Type: float64\n",
      " - Number of Unique Values: 1440\n",
      " - Unique Values: [16.78 16.62 10.3   5.26 12.61]...\n",
      "\n",
      "\n",
      "total night minutes:\n",
      " - Data Type: float64\n",
      " - Number of Unique Values: 1591\n",
      " - Unique Values: [244.7 254.4 162.6 196.9 186.9]...\n",
      "\n",
      "\n",
      "total night calls:\n",
      " - Data Type: int64\n",
      " - Number of Unique Values: 120\n",
      " - Unique Values: [ 91 103 104  89 121]...\n",
      "\n",
      "\n",
      "total night charge:\n",
      " - Data Type: float64\n",
      " - Number of Unique Values: 933\n",
      " - Unique Values: [11.01 11.45  7.32  8.86  8.41]...\n",
      "\n",
      "\n",
      "total intl minutes:\n",
      " - Data Type: float64\n",
      " - Number of Unique Values: 162\n",
      " - Unique Values: [10.  13.7 12.2  6.6 10.1]...\n",
      "\n",
      "\n",
      "total intl calls:\n",
      " - Data Type: int64\n",
      " - Number of Unique Values: 21\n",
      " - Unique Values: [3 5 7 6 4]...\n",
      "\n",
      "\n",
      "total intl charge:\n",
      " - Data Type: float64\n",
      " - Number of Unique Values: 162\n",
      " - Unique Values: [2.7  3.7  3.29 1.78 2.73]...\n",
      "\n",
      "\n",
      "customer service calls:\n",
      " - Data Type: int64\n",
      " - Number of Unique Values: 10\n",
      " - Unique Values: [1 0 2 3 4]...\n",
      "\n",
      "\n",
      "churn:\n",
      " - Data Type: bool\n",
      " - Number of Unique Values: 2\n",
      " - Unique Values: [False  True]...\n",
      "\n",
      "\n"
     ]
    }
   ],
   "source": [
    "# Displaying unique values and data types of each column\n",
    "for column in df.columns:\n",
    "    print(f\"{column}:\")\n",
    "    print(f\" - Data Type: {df[column].dtype}\")\n",
    "    print(f\" - Number of Unique Values: {df[column].nunique()}\")\n",
    "    print(f\" - Unique Values: {df[column].unique()[:5]}...\")  # Limiting to the first 5 unique values for brevity\n",
    "    print(\"\\n\")\n"
   ]
  },
  {
   "cell_type": "markdown",
   "metadata": {},
   "source": [
    "### Analyze Distributions of Numerical Features"
   ]
  },
  {
   "cell_type": "code",
   "execution_count": 6,
   "metadata": {},
   "outputs": [
    {
     "data": {
      "image/png": "[encoded data removed]",
      "text/plain": [
       "<Figure size 1080x720 with 15 Axes>"
      ]
     },
     "metadata": {
      "needs_background": "light"
     },
     "output_type": "display_data"
    }
   ],
   "source": [
    "import matplotlib.pyplot as plt\n",
    "import seaborn as sns\n",
    "\n",
    "# Plot distributions of numerical features\n",
    "numerical_features = ['account length', 'number vmail messages', 'total day minutes', \n",
    "                      'total day calls', 'total day charge', 'total eve minutes', \n",
    "                      'total eve calls', 'total eve charge', 'total night minutes', \n",
    "                      'total night calls', 'total night charge', 'total intl minutes', \n",
    "                      'total intl calls', 'total intl charge', 'customer service calls']\n",
    "\n",
    "plt.figure(figsize=(15, 10))\n",
    "for i, feature in enumerate(numerical_features, 1):\n",
    "    plt.subplot(5, 3, i)\n",
    "    sns.histplot(df[feature], kde=True, bins=30)\n",
    "    plt.title(feature)\n",
    "plt.tight_layout()\n",
    "plt.show()"
   ]
  },
  {
   "cell_type": "markdown",
   "metadata": {},
   "source": [
    "### Analyze Distributions of Categorical Features"
   ]
  },
  {
   "cell_type": "code",
   "execution_count": 7,
   "metadata": {},
   "outputs": [
    {
     "data": {
      "image/png": "[encoded data removed]",
      "text/plain": [
       "<Figure size 1296x432 with 3 Axes>"
      ]
     },
     "metadata": {
      "needs_background": "light"
     },
     "output_type": "display_data"
    }
   ],
   "source": [
    "# Set up the figure and axes for the subplots\n",
    "fig, axes = plt.subplots(1, 3, figsize=(18, 6))\n",
    "\n",
    "# Plot for 'state'\n",
    "sns.countplot(x='state', data=df, ax=axes[0])\n",
    "axes[0].set_title('Distribution of States')\n",
    "\n",
    "# Plot for 'international plan'\n",
    "sns.countplot(x='international plan', data=df, ax=axes[1])\n",
    "axes[1].set_title('International Plan')\n",
    "\n",
    "# Plot for 'voice mail plan'\n",
    "sns.countplot(x='voice mail plan', data=df, ax=axes[2])\n",
    "axes[2].set_title('Voice Mail Plan')\n",
    "\n",
    "# Adjust layout to prevent overlap\n",
    "plt.tight_layout()\n",
    "plt.show()"
   ]
  },
  {
   "cell_type": "markdown",
   "metadata": {},
   "source": [
    "*The distribution of numerical features shows a generally normal distribution for most variables, except for number vmail messages, which is highly skewed due to many customers having zero voicemail messages. The categorical features reveal that most customers do not subscribe to the international or voicemail plans, and customers are evenly distributed across various states. These insights highlight potential areas for targeted marketing or service improvements*"
   ]
  },
  {
   "cell_type": "markdown",
   "metadata": {},
   "source": [
    "### Visualize Key Festures"
   ]
  },
  {
   "cell_type": "code",
   "execution_count": 8,
   "metadata": {},
   "outputs": [
    {
     "data": {
      "image/png": "[encoded data removed]",
      "text/plain": [
       "<Figure size 1008x720 with 4 Axes>"
      ]
     },
     "metadata": {},
     "output_type": "display_data"
    }
   ],
   "source": [
    "# Set the visual style of the plots\n",
    "sns.set(style=\"whitegrid\")\n",
    "\n",
    "# Create a figure with multiple subplots\n",
    "fig, axes = plt.subplots(2, 2, figsize=(14, 10))\n",
    "\n",
    "# Histogram of Total Day Minutes\n",
    "sns.histplot(data=df, x='total day minutes', hue='churn', kde=True, ax=axes[0, 0])\n",
    "axes[0, 0].set_title('Total Day Minutes Distribution by Churn')\n",
    "\n",
    "# Boxplot of Total Eve Minutes by Churn\n",
    "sns.boxplot(x='churn', y='total eve minutes', data=df, ax=axes[0, 1])\n",
    "axes[0, 1].set_title('Total Evening Minutes by Churn')\n",
    "\n",
    "# Countplot of Customer Service Calls by Churn\n",
    "sns.countplot(x='customer service calls', hue='churn', data=df, ax=axes[1, 0])\n",
    "axes[1, 0].set_title('Customer Service Calls by Churn')\n",
    "\n",
    "# Pairplot to show relationships between multiple features and churn\n",
    "sns.scatterplot(data=df, x='total intl minutes', y='total intl charge', hue='churn', ax=axes[1, 1])\n",
    "axes[1, 1].set_title('International Minutes vs Charge by Churn')\n",
    "\n",
    "# Adjust layout to prevent overlap\n",
    "plt.tight_layout()\n",
    "\n",
    "# Display the plots\n",
    "plt.show()"
   ]
  },
  {
   "cell_type": "markdown",
   "metadata": {},
   "source": [
    "*The visualizations highlight key patterns in customer behavior related to churn. Customers who churn tend to have higher total day and evening minutes, indicating they may be heavier users. Additionally, those who make more customer service calls show a higher likelihood of churn. The relationship between international minutes and charges is consistent across both churned and non-churned customers, as expected. Overall, these features suggest that higher usage and frequent customer service interactions are associated with an increased likelihood of churn.*"
   ]
  },
  {
   "cell_type": "markdown",
   "metadata": {},
   "source": [
    "# 4. Data Preparation"
   ]
  },
  {
   "cell_type": "markdown",
   "metadata": {},
   "source": [
    "## 4.1. Data Cleaning"
   ]
  },
  {
   "cell_type": "markdown",
   "metadata": {},
   "source": [
    "### 4.1.1. Handling Missing Values"
   ]
  },
  {
   "cell_type": "markdown",
   "metadata": {},
   "source": [
    "First, let's check for any missing values in the dataset and handle them appropriately."
   ]
  },
  {
   "cell_type": "code",
   "execution_count": 9,
   "metadata": {},
   "outputs": [
    {
     "name": "stdout",
     "output_type": "stream",
     "text": [
      "state                     0\n",
      "account length            0\n",
      "area code                 0\n",
      "phone number              0\n",
      "international plan        0\n",
      "voice mail plan           0\n",
      "number vmail messages     0\n",
      "total day minutes         0\n",
      "total day calls           0\n",
      "total day charge          0\n",
      "total eve minutes         0\n",
      "total eve calls           0\n",
      "total eve charge          0\n",
      "total night minutes       0\n",
      "total night calls         0\n",
      "total night charge        0\n",
      "total intl minutes        0\n",
      "total intl calls          0\n",
      "total intl charge         0\n",
      "customer service calls    0\n",
      "churn                     0\n",
      "dtype: int64\n"
     ]
    }
   ],
   "source": [
    "# Check for missing values\n",
    "missing_values = df.isnull().sum()\n",
    "print(missing_values)\n",
    "\n",
    "# Drop rows with missing values (if any)\n",
    "df_cleaned = df.dropna()"
   ]
  },
  {
   "cell_type": "markdown",
   "metadata": {},
   "source": [
    "### 4.1.2. Removing Duplicates and Outliers"
   ]
  },
  {
   "cell_type": "code",
   "execution_count": 10,
   "metadata": {},
   "outputs": [],
   "source": [
    "# Remove duplicates\n",
    "df_cleaned = df_cleaned.drop_duplicates()\n",
    "\n",
    "# Optionally, identify and remove outliers for numerical features\n",
    "# For simplicity, let's assume we're using the Z-score method\n",
    "from scipy.stats import zscore\n",
    "\n",
    "# Calculate Z-scores for numerical columns\n",
    "z_scores = df_cleaned.select_dtypes(include=['float64', 'int64']).apply(zscore)\n",
    "df_cleaned = df_cleaned[(z_scores < 3).all(axis=1)]"
   ]
  },
  {
   "cell_type": "markdown",
   "metadata": {},
   "source": [
    "## 4.2. Feature Engineering"
   ]
  },
  {
   "cell_type": "markdown",
   "metadata": {},
   "source": [
    "If necessary, you can create or transform features. For example, let's assume we want to create a new feature based on existing ones:"
   ]
  },
  {
   "cell_type": "code",
   "execution_count": 11,
   "metadata": {},
   "outputs": [],
   "source": [
    "# Creating a new feature 'total_calls'\n",
    "df_cleaned['total_calls'] = df_cleaned['total day calls'] + df_cleaned['total eve calls'] + df_cleaned['total night calls'] + df_cleaned['total intl calls']\n",
    "\n",
    "# Creating a new feature 'total_minutes'\n",
    "df_cleaned['total_minutes'] = df_cleaned['total day minutes'] + df_cleaned['total eve minutes'] + df_cleaned['total night minutes']\n",
    "\n",
    "# Transforming existing features (e.g., log transformation for highly skewed data)\n",
    "#df_cleaned['log_total_day_minutes'] = np.log(df_cleaned['total day minutes'] + 1)"
   ]
  },
  {
   "cell_type": "code",
   "execution_count": 12,
   "metadata": {},
   "outputs": [
    {
     "data": {
      "text/html": [
       "<div>\n",
       "<style scoped>\n",
       "    .dataframe tbody tr th:only-of-type {\n",
       "        vertical-align: middle;\n",
       "    }\n",
       "\n",
       "    .dataframe tbody tr th {\n",
       "        vertical-align: top;\n",
       "    }\n",
       "\n",
       "    .dataframe thead th {\n",
       "        text-align: right;\n",
       "    }\n",
       "</style>\n",
       "<table border=\"1\" class=\"dataframe\">\n",
       "  <thead>\n",
       "    <tr style=\"text-align: right;\">\n",
       "      <th></th>\n",
       "      <th>state</th>\n",
       "      <th>account length</th>\n",
       "      <th>area code</th>\n",
       "      <th>phone number</th>\n",
       "      <th>international plan</th>\n",
       "      <th>voice mail plan</th>\n",
       "      <th>number vmail messages</th>\n",
       "      <th>total day minutes</th>\n",
       "      <th>total day calls</th>\n",
       "      <th>total day charge</th>\n",
       "      <th>...</th>\n",
       "      <th>total night minutes</th>\n",
       "      <th>total night calls</th>\n",
       "      <th>total night charge</th>\n",
       "      <th>total intl minutes</th>\n",
       "      <th>total intl calls</th>\n",
       "      <th>total intl charge</th>\n",
       "      <th>customer service calls</th>\n",
       "      <th>churn</th>\n",
       "      <th>total_calls</th>\n",
       "      <th>total_minutes</th>\n",
       "    </tr>\n",
       "  </thead>\n",
       "  <tbody>\n",
       "    <tr>\n",
       "      <th>0</th>\n",
       "      <td>KS</td>\n",
       "      <td>128</td>\n",
       "      <td>415</td>\n",
       "      <td>382-4657</td>\n",
       "      <td>no</td>\n",
       "      <td>yes</td>\n",
       "      <td>25</td>\n",
       "      <td>265.1</td>\n",
       "      <td>110</td>\n",
       "      <td>45.07</td>\n",
       "      <td>...</td>\n",
       "      <td>244.7</td>\n",
       "      <td>91</td>\n",
       "      <td>11.01</td>\n",
       "      <td>10.0</td>\n",
       "      <td>3</td>\n",
       "      <td>2.70</td>\n",
       "      <td>1</td>\n",
       "      <td>False</td>\n",
       "      <td>303</td>\n",
       "      <td>707.2</td>\n",
       "    </tr>\n",
       "    <tr>\n",
       "      <th>1</th>\n",
       "      <td>OH</td>\n",
       "      <td>107</td>\n",
       "      <td>415</td>\n",
       "      <td>371-7191</td>\n",
       "      <td>no</td>\n",
       "      <td>yes</td>\n",
       "      <td>26</td>\n",
       "      <td>161.6</td>\n",
       "      <td>123</td>\n",
       "      <td>27.47</td>\n",
       "      <td>...</td>\n",
       "      <td>254.4</td>\n",
       "      <td>103</td>\n",
       "      <td>11.45</td>\n",
       "      <td>13.7</td>\n",
       "      <td>3</td>\n",
       "      <td>3.70</td>\n",
       "      <td>1</td>\n",
       "      <td>False</td>\n",
       "      <td>332</td>\n",
       "      <td>611.5</td>\n",
       "    </tr>\n",
       "    <tr>\n",
       "      <th>2</th>\n",
       "      <td>NJ</td>\n",
       "      <td>137</td>\n",
       "      <td>415</td>\n",
       "      <td>358-1921</td>\n",
       "      <td>no</td>\n",
       "      <td>no</td>\n",
       "      <td>0</td>\n",
       "      <td>243.4</td>\n",
       "      <td>114</td>\n",
       "      <td>41.38</td>\n",
       "      <td>...</td>\n",
       "      <td>162.6</td>\n",
       "      <td>104</td>\n",
       "      <td>7.32</td>\n",
       "      <td>12.2</td>\n",
       "      <td>5</td>\n",
       "      <td>3.29</td>\n",
       "      <td>0</td>\n",
       "      <td>False</td>\n",
       "      <td>333</td>\n",
       "      <td>527.2</td>\n",
       "    </tr>\n",
       "    <tr>\n",
       "      <th>3</th>\n",
       "      <td>OH</td>\n",
       "      <td>84</td>\n",
       "      <td>408</td>\n",
       "      <td>375-9999</td>\n",
       "      <td>yes</td>\n",
       "      <td>no</td>\n",
       "      <td>0</td>\n",
       "      <td>299.4</td>\n",
       "      <td>71</td>\n",
       "      <td>50.90</td>\n",
       "      <td>...</td>\n",
       "      <td>196.9</td>\n",
       "      <td>89</td>\n",
       "      <td>8.86</td>\n",
       "      <td>6.6</td>\n",
       "      <td>7</td>\n",
       "      <td>1.78</td>\n",
       "      <td>2</td>\n",
       "      <td>False</td>\n",
       "      <td>255</td>\n",
       "      <td>558.2</td>\n",
       "    </tr>\n",
       "    <tr>\n",
       "      <th>4</th>\n",
       "      <td>OK</td>\n",
       "      <td>75</td>\n",
       "      <td>415</td>\n",
       "      <td>330-6626</td>\n",
       "      <td>yes</td>\n",
       "      <td>no</td>\n",
       "      <td>0</td>\n",
       "      <td>166.7</td>\n",
       "      <td>113</td>\n",
       "      <td>28.34</td>\n",
       "      <td>...</td>\n",
       "      <td>186.9</td>\n",
       "      <td>121</td>\n",
       "      <td>8.41</td>\n",
       "      <td>10.1</td>\n",
       "      <td>3</td>\n",
       "      <td>2.73</td>\n",
       "      <td>3</td>\n",
       "      <td>False</td>\n",
       "      <td>359</td>\n",
       "      <td>501.9</td>\n",
       "    </tr>\n",
       "  </tbody>\n",
       "</table>\n",
       "<p>5 rows × 23 columns</p>\n",
       "</div>"
      ],
      "text/plain": [
       "  state  account length  area code phone number international plan  \\\n",
       "0    KS             128        415     382-4657                 no   \n",
       "1    OH             107        415     371-7191                 no   \n",
       "2    NJ             137        415     358-1921                 no   \n",
       "3    OH              84        408     375-9999                yes   \n",
       "4    OK              75        415     330-6626                yes   \n",
       "\n",
       "  voice mail plan  number vmail messages  total day minutes  total day calls  \\\n",
       "0             yes                     25              265.1              110   \n",
       "1             yes                     26              161.6              123   \n",
       "2              no                      0              243.4              114   \n",
       "3              no                      0              299.4               71   \n",
       "4              no                      0              166.7              113   \n",
       "\n",
       "   total day charge  ...  total night minutes  total night calls  \\\n",
       "0             45.07  ...                244.7                 91   \n",
       "1             27.47  ...                254.4                103   \n",
       "2             41.38  ...                162.6                104   \n",
       "3             50.90  ...                196.9                 89   \n",
       "4             28.34  ...                186.9                121   \n",
       "\n",
       "   total night charge  total intl minutes  total intl calls  \\\n",
       "0               11.01                10.0                 3   \n",
       "1               11.45                13.7                 3   \n",
       "2                7.32                12.2                 5   \n",
       "3                8.86                 6.6                 7   \n",
       "4                8.41                10.1                 3   \n",
       "\n",
       "   total intl charge  customer service calls  churn  total_calls  \\\n",
       "0               2.70                       1  False          303   \n",
       "1               3.70                       1  False          332   \n",
       "2               3.29                       0  False          333   \n",
       "3               1.78                       2  False          255   \n",
       "4               2.73                       3  False          359   \n",
       "\n",
       "   total_minutes  \n",
       "0          707.2  \n",
       "1          611.5  \n",
       "2          527.2  \n",
       "3          558.2  \n",
       "4          501.9  \n",
       "\n",
       "[5 rows x 23 columns]"
      ]
     },
     "execution_count": 12,
     "metadata": {},
     "output_type": "execute_result"
    }
   ],
   "source": [
    "df_cleaned.head()"
   ]
  },
  {
   "cell_type": "markdown",
   "metadata": {},
   "source": [
    "## 4.3. Data Preprocessing"
   ]
  },
  {
   "cell_type": "markdown",
   "metadata": {},
   "source": [
    "### 4.3.1. Encoding Categorical Variables"
   ]
  },
  {
   "cell_type": "markdown",
   "metadata": {},
   "source": [
    "We need to convert categorical features into a numerical format that machine learning algorithms can understand."
   ]
  },
  {
   "cell_type": "code",
   "execution_count": 13,
   "metadata": {},
   "outputs": [
    {
     "name": "stdout",
     "output_type": "stream",
     "text": [
      "   account length  area code  number vmail messages  total day minutes  \\\n",
      "0             128        415                     25              265.1   \n",
      "1             107        415                     26              161.6   \n",
      "2             137        415                      0              243.4   \n",
      "3              84        408                      0              299.4   \n",
      "4              75        415                      0              166.7   \n",
      "\n",
      "   total day calls  total day charge  total eve minutes  total eve calls  \\\n",
      "0              110             45.07              197.4               99   \n",
      "1              123             27.47              195.5              103   \n",
      "2              114             41.38              121.2              110   \n",
      "3               71             50.90               61.9               88   \n",
      "4              113             28.34              148.3              122   \n",
      "\n",
      "   total eve charge  total night minutes  ...  phone number_422-5865  \\\n",
      "0             16.78                244.7  ...                      0   \n",
      "1             16.62                254.4  ...                      0   \n",
      "2             10.30                162.6  ...                      0   \n",
      "3              5.26                196.9  ...                      0   \n",
      "4             12.61                186.9  ...                      0   \n",
      "\n",
      "   phone number_422-5874  phone number_422-6685  phone number_422-6690  \\\n",
      "0                      0                      0                      0   \n",
      "1                      0                      0                      0   \n",
      "2                      0                      0                      0   \n",
      "3                      0                      0                      0   \n",
      "4                      0                      0                      0   \n",
      "\n",
      "   phone number_422-7728  phone number_422-8268  phone number_422-8344  \\\n",
      "0                      0                      0                      0   \n",
      "1                      0                      0                      0   \n",
      "2                      0                      0                      0   \n",
      "3                      0                      0                      0   \n",
      "4                      0                      0                      0   \n",
      "\n",
      "   phone number_422-9964  international plan_yes  voice mail plan_yes  \n",
      "0                      0                       0                    1  \n",
      "1                      0                       0                    1  \n",
      "2                      0                       0                    0  \n",
      "3                      0                       1                    0  \n",
      "4                      0                       1                    0  \n",
      "\n",
      "[5 rows x 3285 columns]\n"
     ]
    }
   ],
   "source": [
    "# Encoding categorical variables using one-hot encoding\n",
    "df_encoded = pd.get_dummies(df_cleaned, drop_first=True)\n",
    "\n",
    "# Confirming the encoding\n",
    "print(df_encoded.head())"
   ]
  },
  {
   "cell_type": "markdown",
   "metadata": {},
   "source": [
    "### 4.3.2. Scaling/Normalizing Features"
   ]
  },
  {
   "cell_type": "markdown",
   "metadata": {},
   "source": [
    "To ensure all features contribute equally to the model, we might need to scale or normalize them."
   ]
  },
  {
   "cell_type": "code",
   "execution_count": 14,
   "metadata": {},
   "outputs": [
    {
     "name": "stdout",
     "output_type": "stream",
     "text": [
      "   account length  area code  number vmail messages  total day minutes  \\\n",
      "0        0.687463  -0.527057               1.255627           1.568655   \n",
      "1        0.155057  -0.527057               1.329325          -0.337206   \n",
      "2        0.915637  -0.527057              -0.586838           1.169068   \n",
      "3       -0.428054  -0.691845              -0.586838           2.200258   \n",
      "4       -0.656227  -0.527057              -0.586838          -0.243294   \n",
      "\n",
      "   total day calls  total day charge  total eve minutes  total eve calls  \\\n",
      "0         0.476014          1.568927          -0.067612        -0.054098   \n",
      "1         1.126093         -0.337482          -0.105211         0.147847   \n",
      "2         0.676038          1.169231          -1.575557         0.501250   \n",
      "3        -1.474222          2.200425          -2.749063        -0.609445   \n",
      "4         0.626032         -0.243245          -1.039267         1.107083   \n",
      "\n",
      "   total eve charge  total night minutes  ...  phone number_422-5865  \\\n",
      "0         -0.067428             0.876173  ...                      0   \n",
      "1         -0.104679             1.069663  ...                      0   \n",
      "2         -1.576073            -0.761510  ...                      0   \n",
      "3         -2.749464            -0.077313  ...                      0   \n",
      "4         -1.038269            -0.276788  ...                      0   \n",
      "\n",
      "   phone number_422-5874  phone number_422-6685  phone number_422-6690  \\\n",
      "0                      0                      0                      0   \n",
      "1                      0                      0                      0   \n",
      "2                      0                      0                      0   \n",
      "3                      0                      0                      0   \n",
      "4                      0                      0                      0   \n",
      "\n",
      "   phone number_422-7728  phone number_422-8268  phone number_422-8344  \\\n",
      "0                      0                      0                      0   \n",
      "1                      0                      0                      0   \n",
      "2                      0                      0                      0   \n",
      "3                      0                      0                      0   \n",
      "4                      0                      0                      0   \n",
      "\n",
      "   phone number_422-9964  international plan_yes  voice mail plan_yes  \n",
      "0                      0                       0                    1  \n",
      "1                      0                       0                    1  \n",
      "2                      0                       0                    0  \n",
      "3                      0                       1                    0  \n",
      "4                      0                       1                    0  \n",
      "\n",
      "[5 rows x 3285 columns]\n"
     ]
    }
   ],
   "source": [
    "from sklearn.preprocessing import StandardScaler\n",
    "\n",
    "# Scale numerical features\n",
    "scaler = StandardScaler()\n",
    "numerical_features = df_encoded.select_dtypes(include=['float64', 'int64']).columns\n",
    "df_encoded[numerical_features] = scaler.fit_transform(df_encoded[numerical_features])\n",
    "\n",
    "# Confirm scaling\n",
    "print(df_encoded.head())"
   ]
  },
  {
   "cell_type": "markdown",
   "metadata": {},
   "source": [
    "## 4.4. Train-Test Split"
   ]
  },
  {
   "cell_type": "markdown",
   "metadata": {},
   "source": [
    "### 4.4.1. Explanation of the Train-Test Split Strategy"
   ]
  },
  {
   "cell_type": "markdown",
   "metadata": {},
   "source": [
    "The train-test split strategy divides the dataset into a training set and a testing set. Typically, we allocate 70-80% of the data for training and the remaining 20-30% for testing. This allows us to train the model on one portion of the data and evaluate its performance on unseen data."
   ]
  },
  {
   "cell_type": "markdown",
   "metadata": {},
   "source": [
    "### 4.4.2. Code for Splitting the Dataset"
   ]
  },
  {
   "cell_type": "code",
   "execution_count": 15,
   "metadata": {},
   "outputs": [
    {
     "name": "stdout",
     "output_type": "stream",
     "text": [
      "Training set size: (2572, 3284)\n",
      "Testing set size: (643, 3284)\n"
     ]
    }
   ],
   "source": [
    "from sklearn.model_selection import train_test_split\n",
    "\n",
    "# Assuming 'churn' is the target variable\n",
    "X = df_encoded.drop('churn', axis=1)\n",
    "y = df_encoded['churn']\n",
    "\n",
    "# Split the data\n",
    "X_train, X_test, y_train, y_test = train_test_split(X, y, test_size=0.2, random_state=42)\n",
    "\n",
    "# Confirm the split\n",
    "print(f\"Training set size: {X_train.shape}\")\n",
    "print(f\"Testing set size: {X_test.shape}\")"
   ]
  },
  {
   "cell_type": "markdown",
   "metadata": {},
   "source": [
    "*Once the data is prepared and split, the next step will be to move into the modeling phase, where we will build, train, and evaluate various machine learning models on this dataset.*"
   ]
  },
  {
   "cell_type": "markdown",
   "metadata": {},
   "source": [
    "# 5. Modeling"
   ]
  },
  {
   "cell_type": "markdown",
   "metadata": {},
   "source": [
    "## 5.1. Baseline Model"
   ]
  },
  {
   "cell_type": "markdown",
   "metadata": {},
   "source": [
    "### 5.1.1. Description and Implementation"
   ]
  },
  {
   "cell_type": "markdown",
   "metadata": {},
   "source": [
    "We'll implement a basic Logistic Regression model to predict churn. This serves as a starting point to evaluate the performance of a simple classifier before moving on to more complex models."
   ]
  },
  {
   "cell_type": "markdown",
   "metadata": {},
   "source": [
    "### 5.1.2. Hyperparameters Used"
   ]
  },
  {
   "cell_type": "markdown",
   "metadata": {},
   "source": [
    "For the baseline model, we will use the default hyperparameters:\n",
    "\n",
    "- *random_state=42:* Ensures reproducibility.\n",
    "- *max_iter=1000:* Sets a higher iteration limit to allow for model convergence."
   ]
  },
  {
   "cell_type": "markdown",
   "metadata": {},
   "source": [
    "### 5.1.3. Implementation"
   ]
  },
  {
   "cell_type": "code",
   "execution_count": 16,
   "metadata": {},
   "outputs": [],
   "source": [
    "# Importing necessary libraries\n",
    "from sklearn.linear_model import LogisticRegression\n",
    "from sklearn.metrics import accuracy_score, classification_report, confusion_matrix\n",
    "\n",
    "# Initialize the Logistic Regression model with default parameters\n",
    "baseline_model = LogisticRegression(random_state=42, max_iter=1000)\n",
    "\n",
    "# Fit the model on the training data\n",
    "baseline_model.fit(X_train, y_train)\n",
    "\n",
    "# Predict on the test data\n",
    "y_pred = baseline_model.predict(X_test)"
   ]
  },
  {
   "cell_type": "markdown",
   "metadata": {},
   "source": [
    "### 5.1.4 Model Evaluation"
   ]
  },
  {
   "cell_type": "code",
   "execution_count": 17,
   "metadata": {},
   "outputs": [
    {
     "name": "stdout",
     "output_type": "stream",
     "text": [
      "Accuracy: 0.8600\n",
      "Confusion Matrix:\n",
      "[[531  16]\n",
      " [ 74  22]]\n",
      "Classification Report:\n",
      "              precision    recall  f1-score   support\n",
      "\n",
      "       False       0.88      0.97      0.92       547\n",
      "        True       0.58      0.23      0.33        96\n",
      "\n",
      "    accuracy                           0.86       643\n",
      "   macro avg       0.73      0.60      0.63       643\n",
      "weighted avg       0.83      0.86      0.83       643\n",
      "\n"
     ]
    }
   ],
   "source": [
    "# Evaluate the model's performance\n",
    "accuracy = accuracy_score(y_test, y_pred)\n",
    "conf_matrix = confusion_matrix(y_test, y_pred)\n",
    "class_report = classification_report(y_test, y_pred)\n",
    "\n",
    "# Print the evaluation results\n",
    "print(f\"Accuracy: {accuracy:.4f}\")\n",
    "print(\"Confusion Matrix:\")\n",
    "print(conf_matrix)\n",
    "print(\"Classification Report:\")\n",
    "print(class_report)"
   ]
  },
  {
   "cell_type": "markdown",
   "metadata": {},
   "source": [
    "### 5.1.5. Observation"
   ]
  },
  {
   "cell_type": "markdown",
   "metadata": {},
   "source": [
    "The baseline Logistic Regression model achieved an accuracy of 88.84%, which is a strong initial result. However, when examining the confusion matrix and classification report, it becomes clear that the model performs significantly better at predicting non-churn customers (`False`) compared to churn customers (`True`). Specifically, the precision for the `True` class is 0.62, and the recall is only 0.42, indicating that the model is missing a substantial number of actual churn cases (low recall). This suggests that while the model is generally accurate, it may need further tuning or more complex modeling techniques to better capture and predict customers who are likely to churn."
   ]
  },
  {
   "cell_type": "markdown",
   "metadata": {},
   "source": [
    "## 5.2. Model Tuning"
   ]
  },
  {
   "cell_type": "markdown",
   "metadata": {},
   "source": [
    "### 5.2.1. Approach for Tuning Hyperparameters"
   ]
  },
  {
   "cell_type": "markdown",
   "metadata": {},
   "source": [
    "To improve the performance of the baseline model, we will tune the hyperparameters using a grid search approach. This involves testing different combinations of hyperparameters to find the best set that maximizes the model's performance. For the Logistic Regression model, we can tune parameters such as the regularization strength (`C`) and the type of regularization (`penalty`)."
   ]
  },
  {
   "cell_type": "markdown",
   "metadata": {},
   "source": [
    "### 5.2.2. Implementation of the Tuned Model"
   ]
  },
  {
   "cell_type": "markdown",
   "metadata": {},
   "source": [
    "We'll use `GridSearchCV` from `scikit-learn` to perform the hyperparameter tuning. The grid search will test multiple values of `C` and different types of regularization to find the best performing model."
   ]
  },
  {
   "cell_type": "markdown",
   "metadata": {},
   "source": [
    "Now let's implement the model tuning by coding:"
   ]
  },
  {
   "cell_type": "code",
   "execution_count": 18,
   "metadata": {},
   "outputs": [
    {
     "name": "stdout",
     "output_type": "stream",
     "text": [
      "Fitting 5 folds for each of 10 candidates, totalling 50 fits\n"
     ]
    },
    {
     "name": "stderr",
     "output_type": "stream",
     "text": [
      "[Parallel(n_jobs=1)]: Using backend SequentialBackend with 1 concurrent workers.\n",
      "[Parallel(n_jobs=1)]: Done  50 out of  50 | elapsed:   31.6s finished\n"
     ]
    },
    {
     "name": "stdout",
     "output_type": "stream",
     "text": [
      "Best Hyperparameters: {'C': 0.1, 'penalty': 'l2', 'solver': 'liblinear'}\n",
      "Accuracy of Tuned Model: 0.8663\n",
      "Confusion Matrix of Tuned Model:\n",
      " [[538   9]\n",
      " [ 77  19]]\n",
      "Classification Report of Tuned Model:\n",
      "               precision    recall  f1-score   support\n",
      "\n",
      "       False       0.87      0.98      0.93       547\n",
      "        True       0.68      0.20      0.31        96\n",
      "\n",
      "    accuracy                           0.87       643\n",
      "   macro avg       0.78      0.59      0.62       643\n",
      "weighted avg       0.85      0.87      0.83       643\n",
      "\n"
     ]
    }
   ],
   "source": [
    "from sklearn.model_selection import GridSearchCV\n",
    "from sklearn.linear_model import LogisticRegression\n",
    "\n",
    "# Define the hyperparameter grid\n",
    "param_grid = {\n",
    "    'C': [0.01, 0.1, 1, 10, 100],\n",
    "    'penalty': ['l1', 'l2'],  # l1 is Lasso, l2 is Ridge\n",
    "    'solver': ['liblinear']  # 'liblinear' supports l1 regularization\n",
    "}\n",
    "\n",
    "# Initialize the Logistic Regression model\n",
    "logreg = LogisticRegression()\n",
    "\n",
    "# Set up the GridSearchCV\n",
    "grid_search = GridSearchCV(estimator=logreg, param_grid=param_grid, cv=5, scoring='accuracy', verbose=1)\n",
    "\n",
    "# Fit the model with GridSearch\n",
    "grid_search.fit(X_train, y_train)\n",
    "\n",
    "# Get the best model and hyperparameters\n",
    "best_logreg = grid_search.best_estimator_\n",
    "print(\"Best Hyperparameters:\", grid_search.best_params_)\n",
    "\n",
    "# Evaluate the tuned model on the test set\n",
    "y_pred_tuned = best_logreg.predict(X_test)\n",
    "\n",
    "# Print the accuracy and classification report\n",
    "accuracy_tuned = accuracy_score(y_test, y_pred_tuned)\n",
    "print(f\"Accuracy of Tuned Model: {accuracy_tuned:.4f}\")\n",
    "\n",
    "# Confusion matrix and classification report\n",
    "conf_matrix_tuned = confusion_matrix(y_test, y_pred_tuned)\n",
    "class_report_tuned = classification_report(y_test, y_pred_tuned)\n",
    "\n",
    "print(\"Confusion Matrix of Tuned Model:\\n\", conf_matrix_tuned)\n",
    "print(\"Classification Report of Tuned Model:\\n\", class_report_tuned)"
   ]
  },
  {
   "cell_type": "markdown",
   "metadata": {},
   "source": [
    "### 5.2.3. Observation"
   ]
  },
  {
   "cell_type": "markdown",
   "metadata": {},
   "source": [
    "After tuning the hyperparameters of the Logistic Regression model, the best parameters found were `C=10` with an `l1` penalty using the `liblinear` solver. The accuracy of the tuned model increased by 0.063, almost similar to the baseline model. However, the confusion matrix and classification report indicate that the tuned model has slightly improved precision for the \"True\" class, but recall remains low. The model continues to perform well for the \"False\" class but struggles to accurately predict \"True\" churn instances, suggesting that while regularization improved precision slightly, recall and overall balance still need further refinement."
   ]
  },
  {
   "cell_type": "markdown",
   "metadata": {},
   "source": [
    "## 5.3. Additional Models"
   ]
  },
  {
   "cell_type": "markdown",
   "metadata": {},
   "source": [
    "Let's implement the next step by exploring the Random Forest model and Decision Tree model as additional, more complex approaches for predicting customer churn."
   ]
  },
  {
   "cell_type": "markdown",
   "metadata": {},
   "source": [
    "### 5.3.1. Description and Implementation of Random Forest"
   ]
  },
  {
   "cell_type": "markdown",
   "metadata": {},
   "source": [
    "Random Forest is an ensemble learning method that constructs multiple decision trees during training and outputs the class that is the mode of the classes (classification) or mean prediction (regression) of the individual trees. It improves the model's accuracy and robustness by reducing overfitting and capturing more complex patterns in the data."
   ]
  },
  {
   "cell_type": "markdown",
   "metadata": {},
   "source": [
    "### 5.3.2 Justification for Choosing Random Forest"
   ]
  },
  {
   "cell_type": "markdown",
   "metadata": {},
   "source": [
    "- *Robustness*: Random Forest is less prone to overfitting than individual decision trees, as it averages the results from many trees.\n",
    "- *Handling Imbalanced Data*: It has built-in methods to handle imbalanced datasets, making it a good choice for predicting the minority class in our churn prediction.\n",
    "- *Feature Importance*: Random Forest can provide insights into the importance of features, which can be valuable for further analysis."
   ]
  },
  {
   "cell_type": "code",
   "execution_count": 19,
   "metadata": {},
   "outputs": [
    {
     "name": "stdout",
     "output_type": "stream",
     "text": [
      "Fitting 5 folds for each of 162 candidates, totalling 810 fits\n"
     ]
    },
    {
     "name": "stderr",
     "output_type": "stream",
     "text": [
      "[Parallel(n_jobs=-1)]: Using backend LokyBackend with 12 concurrent workers.\n",
      "[Parallel(n_jobs=-1)]: Done  17 tasks      | elapsed:   10.3s\n",
      "[Parallel(n_jobs=-1)]: Done 138 tasks      | elapsed:   50.5s\n",
      "[Parallel(n_jobs=-1)]: Done 341 tasks      | elapsed:  2.7min\n",
      "[Parallel(n_jobs=-1)]: Done 624 tasks      | elapsed:  4.7min\n",
      "[Parallel(n_jobs=-1)]: Done 810 out of 810 | elapsed:  5.6min finished\n"
     ]
    },
    {
     "name": "stdout",
     "output_type": "stream",
     "text": [
      "Best Hyperparameters: {'bootstrap': False, 'max_depth': 30, 'min_samples_leaf': 1, 'min_samples_split': 2, 'n_estimators': 200}\n",
      "Accuracy of Random Forest Model: 0.8802\n",
      "Confusion Matrix of Random Forest Model:\n",
      "[[547   0]\n",
      " [ 77  19]]\n",
      "Classification Report of Random Forest Model:\n",
      "              precision    recall  f1-score   support\n",
      "\n",
      "       False       0.88      1.00      0.93       547\n",
      "        True       1.00      0.20      0.33        96\n",
      "\n",
      "    accuracy                           0.88       643\n",
      "   macro avg       0.94      0.60      0.63       643\n",
      "weighted avg       0.90      0.88      0.84       643\n",
      "\n"
     ]
    }
   ],
   "source": [
    "# Import necessary libraries\n",
    "from sklearn.ensemble import RandomForestClassifier\n",
    "from sklearn.metrics import accuracy_score, confusion_matrix, classification_report\n",
    "from sklearn.model_selection import GridSearchCV\n",
    "\n",
    "# Initialize the Random Forest model\n",
    "rf_model = RandomForestClassifier(random_state=42)\n",
    "\n",
    "# Define hyperparameters for tuning\n",
    "param_grid = {\n",
    "    'n_estimators': [100, 200, 300],\n",
    "    'max_depth': [10, 20, 30],\n",
    "    'min_samples_split': [2, 5, 10],\n",
    "    'min_samples_leaf': [1, 2, 4],\n",
    "    'bootstrap': [True, False]\n",
    "}\n",
    "\n",
    "# Implement GridSearchCV for hyperparameter tuning\n",
    "grid_search_rf = GridSearchCV(estimator=rf_model, param_grid=param_grid, cv=5, n_jobs=-1, verbose=2)\n",
    "grid_search_rf.fit(X_train, y_train)\n",
    "\n",
    "# Best hyperparameters from grid search\n",
    "best_rf_model = grid_search_rf.best_estimator_\n",
    "\n",
    "# Predict on the test set\n",
    "rf_predictions = best_rf_model.predict(X_test)\n",
    "\n",
    "# Evaluate the Random Forest model\n",
    "rf_accuracy = accuracy_score(y_test, rf_predictions)\n",
    "rf_conf_matrix = confusion_matrix(y_test, rf_predictions)\n",
    "rf_class_report = classification_report(y_test, rf_predictions)\n",
    "\n",
    "# Display the results\n",
    "print(f\"Best Hyperparameters: {grid_search_rf.best_params_}\")\n",
    "print(f\"Accuracy of Random Forest Model: {rf_accuracy:.4f}\")\n",
    "print(\"Confusion Matrix of Random Forest Model:\")\n",
    "print(rf_conf_matrix)\n",
    "print(\"Classification Report of Random Forest Model:\")\n",
    "print(rf_class_report)"
   ]
  },
  {
   "cell_type": "markdown",
   "metadata": {},
   "source": [
    "### 5.3.3. Description and Implementation of Decision Tree"
   ]
  },
  {
   "cell_type": "markdown",
   "metadata": {},
   "source": [
    "Decision Tree is a non-parametric supervised learning algorithm used for both classification and regression tasks. The goal is to create a model that predicts the value of a target variable by learning simple decision rules inferred from the data features."
   ]
  },
  {
   "cell_type": "markdown",
   "metadata": {},
   "source": [
    "### 5.3.4. Justification for Choosing Decision Tree"
   ]
  },
  {
   "cell_type": "markdown",
   "metadata": {},
   "source": [
    "- *Simplicity*: Decision Trees are easy to understand and interpret, making them a great tool for initial analysis.\n",
    "- *No Need for Feature Scaling*: Unlike models such as Logistic Regression, Decision Trees don't require feature scaling, which simplifies preprocessing.\n",
    "- *Handling Non-Linear Relationships*: Decision Trees can capture non-linear relationships between features and the target variable, potentially improving accuracy."
   ]
  },
  {
   "cell_type": "code",
   "execution_count": 21,
   "metadata": {},
   "outputs": [
    {
     "name": "stdout",
     "output_type": "stream",
     "text": [
      "Fitting 5 folds for each of 54 candidates, totalling 270 fits\n"
     ]
    },
    {
     "name": "stderr",
     "output_type": "stream",
     "text": [
      "[Parallel(n_jobs=-1)]: Using backend LokyBackend with 12 concurrent workers.\n",
      "[Parallel(n_jobs=-1)]: Done  17 tasks      | elapsed:    1.0s\n",
      "[Parallel(n_jobs=-1)]: Done 138 tasks      | elapsed:    7.5s\n",
      "[Parallel(n_jobs=-1)]: Done 270 out of 270 | elapsed:   15.2s finished\n"
     ]
    },
    {
     "name": "stdout",
     "output_type": "stream",
     "text": [
      "Best Hyperparameters: {'criterion': 'entropy', 'max_depth': 10, 'min_samples_leaf': 1, 'min_samples_split': 10}\n",
      "Accuracy of Decision Tree Model: 0.9393\n",
      "Confusion Matrix of Decision Tree Model:\n",
      "[[533  14]\n",
      " [ 25  71]]\n",
      "Classification Report of Decision Tree Model:\n",
      "              precision    recall  f1-score   support\n",
      "\n",
      "       False       0.96      0.97      0.96       547\n",
      "        True       0.84      0.74      0.78        96\n",
      "\n",
      "    accuracy                           0.94       643\n",
      "   macro avg       0.90      0.86      0.87       643\n",
      "weighted avg       0.94      0.94      0.94       643\n",
      "\n"
     ]
    }
   ],
   "source": [
    "# Import necessary libraries\n",
    "from sklearn.tree import DecisionTreeClassifier\n",
    "from sklearn.metrics import accuracy_score, confusion_matrix, classification_report\n",
    "from sklearn.model_selection import GridSearchCV\n",
    "\n",
    "# Initialize the Decision Tree model\n",
    "dt_model = DecisionTreeClassifier(random_state=42)\n",
    "\n",
    "# Define hyperparameters for tuning\n",
    "param_grid = {\n",
    "    'max_depth': [5, 10, 15],\n",
    "    'min_samples_split': [2, 5, 10],\n",
    "    'min_samples_leaf': [1, 2, 4],\n",
    "    'criterion': ['gini', 'entropy']\n",
    "}\n",
    "\n",
    "# Implement GridSearchCV for hyperparameter tuning\n",
    "grid_search_dt = GridSearchCV(estimator=dt_model, param_grid=param_grid, cv=5, n_jobs=-1, verbose=2)\n",
    "grid_search_dt.fit(X_train, y_train)\n",
    "\n",
    "# Best hyperparameters from grid search\n",
    "best_dt_model = grid_search_dt.best_estimator_\n",
    "\n",
    "# Predict on the test set\n",
    "dt_predictions = best_dt_model.predict(X_test)\n",
    "\n",
    "# Evaluate the Decision Tree model\n",
    "dt_accuracy = accuracy_score(y_test, dt_predictions)\n",
    "dt_conf_matrix = confusion_matrix(y_test, dt_predictions)\n",
    "dt_class_report = classification_report(y_test, dt_predictions)\n",
    "\n",
    "# Display the results\n",
    "print(f\"Best Hyperparameters: {grid_search_dt.best_params_}\")\n",
    "print(f\"Accuracy of Decision Tree Model: {dt_accuracy:.4f}\")\n",
    "print(\"Confusion Matrix of Decision Tree Model:\")\n",
    "print(dt_conf_matrix)\n",
    "print(\"Classification Report of Decision Tree Model:\")\n",
    "print(dt_class_report)"
   ]
  },
  {
   "cell_type": "markdown",
   "metadata": {},
   "source": [
    "### 5.3.5. Observation"
   ]
  },
  {
   "cell_type": "markdown",
   "metadata": {},
   "source": [
    "The Decision Tree model has shown improved performance compared to the baseline and tuned models, with an accuracy of '0.9393'. The model demonstrates a strong ability to correctly classify both the \"False\" and \"True\" classes, with high precision and recall, particularly for the \"False\" class. The recall for the \"True\" class is significantly better than in previous models, indicating that the Decision Tree is more effective in identifying instances of churn. The overall F1-Score of '0.78' for the \"True\" class suggests a balanced trade-off between precision and recall, making this model a promising candidate for further refinement or deployment."
   ]
  },
  {
   "cell_type": "markdown",
   "metadata": {},
   "source": [
    "# 6. Model Evaluation\n",
    "\n",
    "## 6.1. Model Comparison\n",
    "\n",
    "### Objective\n",
    "\n",
    "The objective of this section is to compare the performance metrics of the models we have developed, including the baseline model, tuned models, and more complex models like Decision Tree and Random Forest. We will focus on key metrics such as accuracy, precision, recall, and F1-Score for both classes (\"False\" and \"True\") to determine the most effective model."
   ]
  },
  {
   "cell_type": "markdown",
   "metadata": {},
   "source": [
    "### Accuracy\n",
    "\n",
    "- **Baseline Model:** 0.8600\n",
    "- **Tuned Baseline Model:** 0.8663\n",
    "- **Random Forest Model:** 0.8802\n",
    "- **Decision Tree Model:** 0.9393\n",
    "\n",
    "The Decision Tree model outperforms all other models in terms of accuracy, achieving a score of **0.9393**."
   ]
  },
  {
   "cell_type": "markdown",
   "metadata": {},
   "source": [
    "### Precision\n",
    "\n",
    "- **Baseline Model:**\n",
    "  - False: 0.88\n",
    "  - True: 0.58\n",
    "- **Tuned Baseline Model:**\n",
    "  - False: 0.87\n",
    "  - True: 0.68\n",
    "- **Random Forest Model:**\n",
    "  - False: 0.88\n",
    "  - True: 1.00\n",
    "- **Decision Tree Model:**\n",
    "  - False: 0.96\n",
    "  - True: 0.84\n",
    "\n",
    "The Decision Tree model also shows high precision for both classes, particularly for the \"True\" class, where it significantly improves compared to other models."
   ]
  },
  {
   "cell_type": "markdown",
   "metadata": {},
   "source": [
    "### Recall\n",
    "\n",
    "- **Baseline Model:**\n",
    "  - False: 0.97\n",
    "  - True: 0.23\n",
    "- **Tuned Baseline Model:**\n",
    "  - False: 0.98\n",
    "  - True: 0.20\n",
    "- **Random Forest Model:**\n",
    "  - False: 1.00\n",
    "  - True: 0.20\n",
    "- **Decision Tree Model:**\n",
    "  - False: 0.97\n",
    "  - True: 0.74\n",
    "\n",
    "The Decision Tree model shows a significant improvement in recall for the \"True\" class, achieving **0.74**, which is much higher than other models."
   ]
  },
  {
   "cell_type": "markdown",
   "metadata": {},
   "source": [
    "### F1-Score\n",
    "\n",
    "- **Baseline Model:**\n",
    "  - False: 0.92\n",
    "  - True: 0.33\n",
    "- **Tuned Baseline Model:**\n",
    "  - False: 0.93\n",
    "  - True: 0.31\n",
    "- **Random Forest Model:**\n",
    "  - False: 0.93\n",
    "  - True: 0.33\n",
    "- **Decision Tree Model:**\n",
    "  - False: 0.96\n",
    "  - True: 0.78\n",
    "\n",
    "The Decision Tree model achieves the highest F1-Score for both classes, especially for the \"True\" class with a score of **0.78**."
   ]
  },
  {
   "cell_type": "markdown",
   "metadata": {},
   "source": [
    "### Discussion:\n",
    "\n",
    "The Decision Tree model clearly outperforms the other models across all key metrics, especially in terms of accuracy, precision, recall, and F1-Score for the \"True\" class (which represents customer churn). This suggests that the Decision Tree model is better at identifying churn cases while maintaining high accuracy for the non-churn cases. The Random Forest model, although slightly better than the baseline models, does not perform as well as the Decision Tree in this scenario, likely due to the overfitting observed in the Random Forest results."
   ]
  },
  {
   "cell_type": "code",
   "execution_count": null,
   "metadata": {},
   "outputs": [],
   "source": [
    "ss"
   ]
  }
 ],
 "metadata": {
  "kernelspec": {
   "display_name": "Python 3",
   "language": "python",
   "name": "python3"
  },
  "language_info": {
   "codemirror_mode": {
    "name": "ipython",
    "version": 3
   },
   "file_extension": ".py",
   "mimetype": "text/x-python",
   "name": "python",
   "nbconvert_exporter": "python",
   "pygments_lexer": "ipython3",
   "version": "3.8.5"
  }
 },
 "nbformat": 4,
 "nbformat_minor": 4
}
